{
 "cells": [
  {
   "cell_type": "code",
   "execution_count": 4,
   "metadata": {},
   "outputs": [],
   "source": [
    "import torch.nn as nn\n",
    "import matplotlib as mpl\n",
    "import torch.utils.data as data\n",
    "import matplotlib.pyplot as plt\n",
    "#package import\n",
    "import time\n",
    "import numpy as np\n",
    "import torch\n",
    "import random\n",
    "import torch.nn.functional as F\n",
    "from torchvision import datasets\n",
    "from torchvision import transforms\n",
    "from torch.utils.data import DataLoader\n",
    "# from visdom import Visdom\n",
    "if torch.cuda.is_available():\n",
    "    torch.backends.cudnn.deterministic = True"
   ]
  },
  {
   "cell_type": "code",
   "execution_count": 8,
   "metadata": {},
   "outputs": [
    {
     "name": "stdout",
     "output_type": "stream",
     "text": [
      "(5, 256, 512)\n",
      "(5, 4, 256, 512)\n",
      "[2, 3, 4, 0, 1]\n"
     ]
    }
   ],
   "source": [
    "# Hyper parameters\n",
    "random_seed = 1\n",
    "learning_rate = 0.0004\n",
    "batch_size = 4\n",
    "num_epochs= 2000\n",
    "device=torch.device('cuda:0' if torch.cuda.is_available() else 'cpu')\n",
    "num_features = 2500\n",
    "ratio = 1\n",
    "num_channel = np.array([4,8,16,32,64,128,256,512])*ratio\n",
    "test_ratio = 0.85\n",
    "torch.set_num_threads(8)\n",
    "\n",
    "# load data (expensive operation)\n",
    "# path_node_die = 'dieImages01thin.npy'\n",
    "# path_node_BHF = 'BHFImages01thin.npy'\n",
    "# path_node_Friction = 'FrictionImages01thin.npy'\n",
    "# path_node_Clearance = 'ClearanceImages01thin.npy'\n",
    "# path_node_Thickness = 'ThicknessImages01thin.npy'\n",
    "path_node_inputs = 'temp/dieImagesZ8.npy'\n",
    "path_node_target = 'temp/final_target_images/REDONE_SAMPLEStargetImages_Strains_Frame_000.npy'\n",
    "# samplenum = 603\n",
    "\n",
    "# Inputs = np.zeros((samplenum,5,256,512))\n",
    "# Inputs[:,0,:] = np.load(path_node_die)[0:samplenum,:,:]\n",
    "# Inputs[:,1,:] = np.load(path_node_BHF)[0:samplenum,:,:]\n",
    "# Inputs[:,2,:] = np.load(path_node_Friction)[0:samplenum,:,:]\n",
    "# Inputs[:,3,:] = np.load(path_node_Clearance)[0:samplenum,:,:]\n",
    "# Inputs[:,4,:] = np.load(path_node_Thickness)[0:samplenum,:,:]\n",
    "# Inputs = np.delete(Inputs, [601,602,603,604,605,606,607,608], 0)\n",
    "# Inputs = np.load(path_node_inputs)[0:samplenum,:,:]\n",
    "# Targets = np.load(path_node_target)[0:samplenum,0,:] #Targets: thinning, major strain, minor strain, von mises stress\n",
    "Inputs = np.load(path_node_inputs)\n",
    "Targets = np.load(path_node_target) #Targets: thinning, major strain, minor strain, von mises stress\n",
    "\n",
    "# Data\n",
    "random.seed(random_seed)\n",
    "torch.random.manual_seed(random_seed)\n",
    "np.random.seed(random_seed)\n",
    "index = [i for i in range(len(Targets))]\n",
    "random.shuffle(index)\n",
    "\n",
    "print(Inputs.shape)\n",
    "print(Targets.shape)\n",
    "print(index)"
   ]
  },
  {
   "cell_type": "code",
   "execution_count": 13,
   "metadata": {},
   "outputs": [
    {
     "name": "stdout",
     "output_type": "stream",
     "text": [
      "Inputs training dimensions: (4, 256, 512)\n",
      "Inputs testing dimensions: (1, 256, 512)\n",
      "Targets training dimensions: (4, 256, 512)\n",
      "Targets testing dimensions: (1, 256, 512)\n"
     ]
    }
   ],
   "source": [
    "\n",
    "Inputs = Inputs[index]\n",
    "Targets = Targets[index]\n",
    "\n",
    "Inputs_train=Inputs[:int(len(Targets)*test_ratio),:,:]\n",
    "Inputs_test=Inputs[int(len(Targets)*test_ratio):,:,:]\n",
    "\n",
    "Targets_train=Targets[:int(len(Targets)*test_ratio),0,:,:] #only 1st channel kept (thinning image)\n",
    "Targets_test=Targets[int(len(Targets)*test_ratio):,0,:,:]\n",
    "\n",
    "class FormDataset(data.Dataset):\n",
    "    def __init__(self,Inputs,Targets):\n",
    "        self.Inputs=Inputs\n",
    "        self.Targets=Targets\n",
    "\n",
    "    def __getitem__(self,index):\n",
    "        Input, Target=self.Inputs[index,:,:,:], self.Targets[index,:,:]\n",
    "\n",
    "        Input=torch.from_numpy(Input).float().to(device)\n",
    "        Target=torch.from_numpy(Target).float().to(device)\n",
    "\n",
    "        a = torch.zeros([5,256,512])\n",
    "        a[:]=Input[:,:,:]\n",
    "        b = torch.zeros([1,256,512])\n",
    "        b[0] = Target\n",
    "        return a, b\n",
    "\n",
    "    def __len__(self):\n",
    "        return self.Inputs.shape[0]\n",
    "    \n",
    "print('Inputs training dimensions:', Inputs_train.shape)\n",
    "print('Inputs testing dimensions:', Inputs_test.shape)\n",
    "print('Targets training dimensions:', Targets_train.shape)\n",
    "print('Targets testing dimensions:', Targets_test.shape)\n",
    "\n",
    "#Input and target is same\n",
    "Formdataset_train=FormDataset(Inputs_train,Targets_train)\n",
    "Formdataset_test=FormDataset(Inputs_test,Targets_test)\n",
    "\n",
    "train_loader=torch.utils.data.DataLoader(dataset=Formdataset_train,\n",
    "                                        batch_size=batch_size,\n",
    "                                        shuffle=True)\n",
    "\n",
    "test_loader=torch.utils.data.DataLoader(dataset=Formdataset_test,\n",
    "                                       batch_size=batch_size,\n",
    "                                       shuffle=False)"
   ]
  }
 ],
 "metadata": {
  "kernelspec": {
   "display_name": "Python 3",
   "language": "python",
   "name": "python3"
  },
  "language_info": {
   "codemirror_mode": {
    "name": "ipython",
    "version": 3
   },
   "file_extension": ".py",
   "mimetype": "text/x-python",
   "name": "python",
   "nbconvert_exporter": "python",
   "pygments_lexer": "ipython3",
   "version": "3.9.0"
  },
  "orig_nbformat": 4
 },
 "nbformat": 4,
 "nbformat_minor": 2
}
